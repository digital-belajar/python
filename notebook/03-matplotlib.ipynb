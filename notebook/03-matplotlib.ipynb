{
  "nbformat": 4,
  "nbformat_minor": 0,
  "metadata": {
    "colab": {
      "provenance": [],
      "toc_visible": true,
      "authorship_tag": "ABX9TyPlmaJ99fxtIkZCbF5dZmnm",
      "include_colab_link": true
    },
    "kernelspec": {
      "name": "python3",
      "display_name": "Python 3"
    },
    "language_info": {
      "name": "python"
    }
  },
  "cells": [
    {
      "cell_type": "markdown",
      "metadata": {
        "id": "view-in-github",
        "colab_type": "text"
      },
      "source": [
        "<a href=\"https://colab.research.google.com/github/ruang-belajar/python/blob/master/notebook/03-matplotlib.ipynb\" target=\"_parent\"><img src=\"https://colab.research.google.com/assets/colab-badge.svg\" alt=\"Open In Colab\"/></a>"
      ]
    },
    {
      "cell_type": "markdown",
      "source": [
        "**Matplotlib** adalah modul Python yang digunakan untuk visualisasi data.\n",
        "\n",
        "Berikut beberapa sumber yang bisa Anda gunakan untuk mempelajari matplotlib:\n",
        "- https://makeabilitylab.github.io/physcomp/signals/IntroToMatplotlib.html\n",
        "- https://www.geeksforgeeks.org/bar-plot-in-matplotlib/"
      ],
      "metadata": {
        "id": "1MzMF-q2YfjQ"
      }
    },
    {
      "cell_type": "markdown",
      "source": [
        "# Grafik Sederhana"
      ],
      "metadata": {
        "id": "U7-eCqgW-4gd"
      }
    },
    {
      "cell_type": "code",
      "execution_count": null,
      "metadata": {
        "id": "5l4_ddm8RX9k"
      },
      "outputs": [],
      "source": [
        "# import modul matplotlib\n",
        "import matplotlib.pyplot as plt"
      ]
    },
    {
      "cell_type": "markdown",
      "source": [
        "## Grafik XY (_plot_)\n",
        "Berikut contoh sederhana membuat visualisasi data dari _list_ menggunakan _matplotlib_"
      ],
      "metadata": {
        "id": "mxat4jhKSFxW"
      }
    },
    {
      "cell_type": "code",
      "source": [
        "y = [20, 44,21,44,65,67,29,89]\n",
        "x = [2001,2002,2003,2004,2005,2006,2007,2008]\n",
        "\n",
        "plt.plot(x,y)\n",
        "plt.show()"
      ],
      "metadata": {
        "id": "w9MXWEpISVSG"
      },
      "execution_count": null,
      "outputs": []
    },
    {
      "cell_type": "markdown",
      "source": [
        "### Menambahkan keterangan\n",
        "\n"
      ],
      "metadata": {
        "id": "PrHOQbHGTKNZ"
      }
    },
    {
      "cell_type": "code",
      "source": [
        "y = [20, 44,21,44,65,67,29,89]\n",
        "x = [2001,2002,2003,2004,2005,2006,2007,2008]\n",
        "\n",
        "plt.plot(x,y, label=\"Produk A\")\n",
        "plt.ylabel('Sales')\n",
        "plt.xlabel('Tahun')\n",
        "plt.title(\"Grafik Penjualan per Tahun\")\n",
        "plt.legend()\n",
        "plt.show()"
      ],
      "metadata": {
        "id": "XQhRgP49TOZW"
      },
      "execution_count": null,
      "outputs": []
    },
    {
      "cell_type": "markdown",
      "source": [
        "### Plotting lebih dari satu data"
      ],
      "metadata": {
        "id": "LeoNBJ57Yzg2"
      }
    },
    {
      "cell_type": "code",
      "source": [
        "produk_a = [20, 44,21,44,65,67,29,89]\n",
        "produk_b = [30, 74,27,54,25,37,59,39]\n",
        "x = [2001,2002,2003,2004,2005,2006,2007,2008]\n",
        "\n",
        "plt.plot(x,produk_a, label=\"Produk A\")\n",
        "plt.plot(x,produk_b, label=\"Produk B\")\n",
        "plt.ylabel('Sales')\n",
        "plt.xlabel('Tahun')\n",
        "plt.title(\"Grafik Penjualan per Tahun\")\n",
        "plt.legend()\n",
        "plt.show()"
      ],
      "metadata": {
        "id": "4y3Ve-izZCfv"
      },
      "execution_count": null,
      "outputs": []
    },
    {
      "cell_type": "markdown",
      "source": [
        "## Grafik _bar_"
      ],
      "metadata": {
        "id": "pIyU_wH1Zh4u"
      }
    },
    {
      "cell_type": "code",
      "source": [
        "produk_a = [20, 44,21,44,65,67,29,89]\n",
        "x = [2001,2002,2003,2004,2005,2006,2007,2008]\n",
        "\n",
        "plt.bar(x,produk_a, label=\"Produk A\")\n",
        "plt.show()"
      ],
      "metadata": {
        "id": "Z1IEmsmsZtIs"
      },
      "execution_count": null,
      "outputs": []
    },
    {
      "cell_type": "markdown",
      "source": [
        "Untuk membuat bar lebih dari satu data, check link berikut:\n",
        "- https://www.geeksforgeeks.org/plotting-multiple-bar-charts-using-matplotlib-in-python/"
      ],
      "metadata": {
        "id": "-wODun-qabXR"
      }
    },
    {
      "cell_type": "markdown",
      "source": [
        "## Grafik _pie_\n",
        "\n",
        "Untuk membuat grafik _pie_ data yang diperlukan relatif lebih sederhana, cuma dibutuhkan satu _list_"
      ],
      "metadata": {
        "id": "OfyzoJYS_SZG"
      }
    },
    {
      "cell_type": "code",
      "source": [
        "data = [20,43,66,33]\n",
        "\n",
        "plt.pie(data)\n",
        "plt.show()"
      ],
      "metadata": {
        "id": "LvRwcDrf_X5w"
      },
      "execution_count": null,
      "outputs": []
    },
    {
      "cell_type": "code",
      "source": [
        "data = [20,43,66,33]\n",
        "\n",
        "judul = ['Tasik', 'Depok', 'Garut', 'Bandung']\n",
        "\n",
        "# parameter autopct digunakan untuk menampilkan angka pada pie\n",
        "# parameter labels digunakan untuk menambahkan label\n",
        "plt.pie(data, autopct='%1.1f%%', labels=judul)\n",
        "\n",
        "plt.show()"
      ],
      "metadata": {
        "id": "Hn7V8dsw0v_3"
      },
      "execution_count": null,
      "outputs": []
    },
    {
      "cell_type": "markdown",
      "source": [
        "# Pandas + Matplotlib\n",
        "\n",
        "Matplotlib terintegrasi dengan baik dengan Pandas. Sehingga DataFrame yang diolah oleh Pandas, bisa ditampilkan baik menggunakan Matplotlib.\n",
        "\n",
        "Berikut beberapa referensi yang bisa gunakan untuk menggunakan pandas dengan matplotlib:\n",
        "- https://pandas.pydata.org/docs/reference/api/pandas.DataFrame.plot.html\n",
        "\n",
        "Untuk mulai mencobanya lakukan 3 persiapan ini:\n",
        "1. download file CSV\n",
        "2. import modul pandas\n",
        "3. baca file CSV"
      ],
      "metadata": {
        "id": "Z6E-8Ps8bQ52"
      }
    },
    {
      "cell_type": "markdown",
      "source": [
        "#### Persiapan: Baca Data\n",
        "\n",
        "Untuk mulai mencobanya lakukan 3 persiapan ini:\n",
        "\n",
        "download file CSV\n",
        "import modul pandas\n",
        "baca file CSV"
      ],
      "metadata": {
        "id": "amJdn1twO4bX"
      }
    },
    {
      "cell_type": "code",
      "source": [
        "# download file contoh csv\n",
        "!wget https://raw.githubusercontent.com/ruang-belajar/python/master/notebook/data/2013-data-kebakaran.csv -O data-kebakaran.csv"
      ],
      "metadata": {
        "id": "BSBLIMhJF8uX"
      },
      "execution_count": null,
      "outputs": []
    },
    {
      "cell_type": "code",
      "source": [
        "# import modul pandas\n",
        "import pandas as pd\n",
        "\n",
        "# baca data csv\n",
        "df = pd.read_csv(\"data-kebakaran.csv\")\n",
        "\n",
        "# tampilkan 5 data pertama\n",
        "df.head()"
      ],
      "metadata": {
        "id": "70WOAg--GHr4"
      },
      "execution_count": null,
      "outputs": []
    },
    {
      "cell_type": "code",
      "source": [
        "# tampilkan banyak data\n",
        "print(\"Banyak data = \",df.shape[0])"
      ],
      "metadata": {
        "id": "rbKCYEJeOgbH"
      },
      "execution_count": null,
      "outputs": []
    },
    {
      "cell_type": "markdown",
      "source": [
        "#### menghitung banyak kejadian per bulan (grafik XY)\n"
      ],
      "metadata": {
        "id": "7RMmjD4HOql3"
      }
    },
    {
      "cell_type": "code",
      "source": [
        "s = df.groupby('bulan').tanggal.count()\n",
        "s.index"
      ],
      "metadata": {
        "id": "rnKwz-9g1QjD"
      },
      "execution_count": null,
      "outputs": []
    },
    {
      "cell_type": "code",
      "source": [
        "# siapkan data\n",
        "s = df.groupby('bulan').tanggal.count()\n",
        "plt.plot(s.index, s)\n",
        "plt.show()"
      ],
      "metadata": {
        "id": "NbJkGgMINNw7"
      },
      "execution_count": null,
      "outputs": []
    },
    {
      "cell_type": "markdown",
      "source": [
        "### hitung banyak korban (grafik bar)"
      ],
      "metadata": {
        "id": "Bre9Vg5R84uz"
      }
    },
    {
      "cell_type": "code",
      "source": [
        "s = df.groupby('hari').hari.count()\n",
        "plt.bar(s.index, s)\n",
        "plt.show()"
      ],
      "metadata": {
        "id": "SQmuFNx9QC1_"
      },
      "execution_count": null,
      "outputs": []
    },
    {
      "cell_type": "markdown",
      "source": [
        "### Tampilkan rasio sumber info kebakaran"
      ],
      "metadata": {
        "id": "qaEEDJrA9bMp"
      }
    },
    {
      "cell_type": "code",
      "source": [
        "s = df.groupby('sumber_info').sumber_info.count()\n",
        "plt.pie(s)\n",
        "plt.show()"
      ],
      "metadata": {
        "id": "gC22Uw_IKvIf"
      },
      "execution_count": null,
      "outputs": []
    },
    {
      "cell_type": "markdown",
      "source": [
        "### Tampilkan data sumber informasi untuk wilayah administrasi jakarta barat"
      ],
      "metadata": {
        "id": "U7lbEhCQ9uoq"
      }
    },
    {
      "cell_type": "code",
      "source": [
        "df1 = df[df.wilayah=='Kota Administrasi Jakarta Barat']\n",
        "df1.head()"
      ],
      "metadata": {
        "id": "GLXSj3q39ttQ"
      },
      "execution_count": null,
      "outputs": []
    },
    {
      "cell_type": "code",
      "source": [
        "s = df1.groupby('sumber_info').tanggal.count()\n",
        "plt.bar(s.index, s)\n",
        "plt.show()"
      ],
      "metadata": {
        "id": "S1w5XaW5-0wy"
      },
      "execution_count": null,
      "outputs": []
    },
    {
      "cell_type": "code",
      "source": [],
      "metadata": {
        "id": "3nVQMp7g2guV"
      },
      "execution_count": null,
      "outputs": []
    },
    {
      "cell_type": "code",
      "source": [
        "plt.pie(s, autopct='%1.1f%%', labels=s.index)\n",
        "plt.show()"
      ],
      "metadata": {
        "id": "zlxwntCy_H3l"
      },
      "execution_count": null,
      "outputs": []
    },
    {
      "cell_type": "markdown",
      "source": [
        "# Latihan"
      ],
      "metadata": {
        "id": "Xkxzxu6zIuG-"
      }
    },
    {
      "cell_type": "markdown",
      "source": [
        "#### Jenis data seperti apa yang kita cocok tampilkan untuk tipe grafik **plot XY**?"
      ],
      "metadata": {
        "id": "L8xQQYsY4-QE"
      }
    },
    {
      "cell_type": "markdown",
      "source": [],
      "metadata": {
        "id": "luiliVeO5VzL"
      }
    },
    {
      "cell_type": "markdown",
      "source": [
        "#### Jenis data seperti apa yang kita cocok tampilkan untuk tipe grafik **bar**?"
      ],
      "metadata": {
        "id": "SfDWf1zG5WIP"
      }
    },
    {
      "cell_type": "markdown",
      "source": [],
      "metadata": {
        "id": "Q-anyzkk5Wsm"
      }
    },
    {
      "cell_type": "markdown",
      "source": [
        "#### Jenis data seperti apa yang kita cocok tampilkan untuk tipe grafik **pie**?"
      ],
      "metadata": {
        "id": "bb13YcK25gyq"
      }
    },
    {
      "cell_type": "markdown",
      "source": [],
      "metadata": {
        "id": "NptY_yDk5jxO"
      }
    },
    {
      "cell_type": "markdown",
      "source": [
        "#### Buat grafik jumlah korban jiwa per bulan"
      ],
      "metadata": {
        "id": "A9G0rJwoPFc_"
      }
    },
    {
      "cell_type": "code",
      "source": [
        "s = df.groupby('bulan').korban_jiwa.sum()\n",
        "plt.plot(s.index, s)\n",
        "plt.show()"
      ],
      "metadata": {
        "id": "_Ow_hpXf6BGv"
      },
      "execution_count": null,
      "outputs": []
    },
    {
      "cell_type": "markdown",
      "source": [
        "#### Buat grafik jumlah korban jiwa per kecamatan untuk wilayah _Jakarta Barat_"
      ],
      "metadata": {
        "id": "MYg2pcU36SPJ"
      }
    },
    {
      "cell_type": "code",
      "source": [
        "df1 = df[df.wilayah=='Kota Administrasi Jakarta Barat']\n",
        "s = df1.groupby('kecamatan').korban_jiwa.sum()\n",
        "plt.bar(s.index, s)\n",
        "plt.show()"
      ],
      "metadata": {
        "id": "F2dEebGJ6eoh"
      },
      "execution_count": null,
      "outputs": []
    },
    {
      "cell_type": "markdown",
      "source": [
        "#### Buat grafik perbandingan _sumber informasi_ untuk data kebakaran bulan _Januari_ sampai _Juni_"
      ],
      "metadata": {
        "id": "2zN042Vk61Qb"
      }
    },
    {
      "cell_type": "code",
      "source": [
        "s = df[(df.bulan>=1)&(df.bulan<=6)].groupby('sumber_info').sumber_info.count()\n",
        "plt.pie(s, autopct=\"%1.1f%%\", labels=s.index)\n",
        "plt.show()"
      ],
      "metadata": {
        "id": "ESnQWpvU7G19"
      },
      "execution_count": null,
      "outputs": []
    },
    {
      "cell_type": "markdown",
      "source": [
        "#### (1) Ceritakan data yang ditampilkan oleh script berikut:\n",
        "\n",
        "```python\n",
        "s1 = df[df.penyebab=='Listrik'].groupby('bulan').kerugian.sum()\n",
        "\n",
        "plt.plot(s1.index, s1);\n",
        "plt.show()\n",
        "```"
      ],
      "metadata": {
        "id": "IgmMnYKC7g4e"
      }
    },
    {
      "cell_type": "markdown",
      "source": [
        "#### (2) Ceritakan data yang ditampilkan oleh script berikut:\n",
        "```python\n",
        "s1 = df[(df.bulan>=1)&(df.bulan<=6)].groupby('wilayah').kerugian.sum()\n",
        "s2 = df[(df.bulan>=7)&(df.bulan<=12)].groupby('wilayah').kerugian.sum()\n",
        "\n",
        "plt.plot(s1.index, s1);\n",
        "plt.plot(s2.index, s2);\n",
        "plt.show()\n",
        "```"
      ],
      "metadata": {
        "id": "aoMgzFFz7NVx"
      }
    },
    {
      "cell_type": "markdown",
      "source": [
        "# Tugas"
      ],
      "metadata": {
        "id": "2hsRvyLeD7M4"
      }
    },
    {
      "cell_type": "markdown",
      "source": [
        "## Soal 1\n",
        "\n",
        "Buat grafik di atas menjadi grafik _bar_"
      ],
      "metadata": {
        "id": "e7ggkCy4ENQx"
      }
    },
    {
      "cell_type": "markdown",
      "source": [
        "## Soal 2\n",
        "\n",
        "Perbaiki label X pada grafik diatas dengan cara memutar label sehingga label bisa terbaca (tidak saling bertumpuk) dengan cara _rotate_ label"
      ],
      "metadata": {
        "id": "vekPn9Sh-7wz"
      }
    }
  ]
}