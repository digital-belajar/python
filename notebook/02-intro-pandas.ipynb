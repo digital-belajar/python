{
  "nbformat": 4,
  "nbformat_minor": 0,
  "metadata": {
    "colab": {
      "provenance": [],
      "toc_visible": true,
      "include_colab_link": true
    },
    "kernelspec": {
      "display_name": "Python 3",
      "language": "python",
      "name": "python3"
    }
  },
  "cells": [
    {
      "cell_type": "markdown",
      "metadata": {
        "id": "view-in-github",
        "colab_type": "text"
      },
      "source": [
        "<a href=\"https://colab.research.google.com/github/ruang-belajar/python/blob/master/notebook/02-intro-pandas.ipynb\" target=\"_parent\"><img src=\"https://colab.research.google.com/assets/colab-badge.svg\" alt=\"Open In Colab\"/></a>"
      ]
    },
    {
      "cell_type": "markdown",
      "metadata": {
        "id": "01hdRxSHZF0T"
      },
      "source": [
        "Sumber:\n",
        "https://colab.research.google.com/notebooks/mlcc/intro_to_pandas.ipynb"
      ]
    },
    {
      "cell_type": "markdown",
      "metadata": {
        "id": "YzJwx49KE-m3"
      },
      "source": [
        "# Konsep Dasar Pandas\n",
        "\n"
      ]
    },
    {
      "cell_type": "markdown",
      "metadata": {
        "id": "99XDq7k-kOi0"
      },
      "source": [
        "#### Import modul pandas\n",
        "\n",
        "Untuk bisa menggunakan modul pandas, terlebih dahulu Anda harus memanggil modul ini dengan perintah `import`."
      ]
    },
    {
      "cell_type": "code",
      "metadata": {
        "id": "fLkGn4D9kOi1"
      },
      "source": [
        "import pandas as pd"
      ],
      "execution_count": null,
      "outputs": []
    },
    {
      "cell_type": "markdown",
      "metadata": {
        "id": "NB9RgekNkOi5"
      },
      "source": [
        "#### Buat DataFrame sederhana\n",
        "\n",
        "Panduan lengkap membuat _DataFrame_ Anda bisa akses di https://pandas.pydata.org/pandas-docs/stable/generated/pandas.DataFrame.html.\n",
        "\n",
        "Berikut beberapa cara sederhana untuk membuat _DataFrame_ dari _list_ atau _dictionary_"
      ]
    },
    {
      "cell_type": "code",
      "metadata": {
        "id": "BoXrGzUlkOjG"
      },
      "source": [
        "# CARA 1\n",
        "data = {'name':['Bob','Jen','Tim'],\n",
        "        'age':[20,30,40],\n",
        "        'pet':['cat', 'dog', 'bird']}\n",
        "df = pd.DataFrame(data)\n",
        "\n",
        "df"
      ],
      "execution_count": null,
      "outputs": []
    },
    {
      "cell_type": "code",
      "source": [
        "# CARA 2\n",
        "data = [['Bob',20,'cat'],['Jen',30,'dog'],['Tim',40,'bird']]\n",
        "df = pd.DataFrame(data, columns=['name','age','pet'])\n",
        "\n",
        "df"
      ],
      "metadata": {
        "id": "keTEUv5rZpcD"
      },
      "execution_count": null,
      "outputs": []
    },
    {
      "cell_type": "markdown",
      "metadata": {
        "id": "sIEf3y-zkOjL"
      },
      "source": [
        "#### Melihat nama kolom\n",
        "\n",
        "Indeks adalah salah satu konsep terpenting dalam panda.\n",
        "\n",
        "Setiap _DataFrame_ hanya memiliki satu indeks yang selalu tersedia sebagai `df.index` dan jika Anda tidak menyediakannya (seperti yang tidak kami lakukan untuk kerangka data ini), yang baru akan dibuat secara otomatis.\n",
        "\n",
        "Indeks menentukan cara mengakses baris kerangka data.\n",
        "\n",
        "Indeks paling sederhana adalah indeks rentang tetapi ada yang lebih kompleks seperti indeks interval, indeks waktu dan indeks multi.\n",
        "\n",
        "Kami akan mengeksplorasi indeks lebih mendalam selama kuliah ini."
      ]
    },
    {
      "cell_type": "code",
      "metadata": {
        "id": "6_Fzxp3VkOjL"
      },
      "source": [
        "df.columns\n"
      ],
      "execution_count": null,
      "outputs": []
    },
    {
      "cell_type": "code",
      "source": [
        "df.index"
      ],
      "metadata": {
        "id": "I8rJiCVS8ekn"
      },
      "execution_count": null,
      "outputs": []
    },
    {
      "cell_type": "markdown",
      "metadata": {
        "id": "eufnrS7HkOjQ"
      },
      "source": [
        "#### Pilih kolom berdasarkan nama dengan 2 cara berbeda\n",
        "\n",
        "Kedua cara ini setara dan hampir selalu dapat digunakan secara bergantian.\n",
        "\n",
        "Pengecualian utama adalah ketika nama kolom berisi spasi. Jika misalnya kita memiliki kolom bernama \"sales weekly\", kita harus menggunakan `df['sales weekly']` karena `df.sales weekly` adalah kesalahan sintaksis."
      ]
    },
    {
      "cell_type": "code",
      "metadata": {
        "id": "VoZhc6lRkOjR"
      },
      "source": [
        "print(df['name'])"
      ],
      "execution_count": null,
      "outputs": []
    },
    {
      "cell_type": "code",
      "source": [
        "print(df.name)"
      ],
      "metadata": {
        "id": "Qkt02gKkghU1"
      },
      "execution_count": null,
      "outputs": []
    },
    {
      "cell_type": "markdown",
      "metadata": {
        "id": "jJZ9IfaskOjX"
      },
      "source": [
        "#### Pilih beberapa kolom\n",
        "\n",
        "Untuk memilih banyak kolom, kami menggunakan `df[columns_to_select]` di mana `columns_to_select` adalah kolom yang ingin kami berikan sebagai daftar python sederhana. Hasilnya kita akan mendapatkan data frame yang lain.\n",
        "\n",
        "Ini setara dengan mencantumkan nama kolom di bagian `SELECT` dari kueri sql."
      ]
    },
    {
      "cell_type": "code",
      "metadata": {
        "id": "FkVfaB75kOjY"
      },
      "source": [
        "df[['name','pet']]"
      ],
      "execution_count": null,
      "outputs": []
    },
    {
      "cell_type": "markdown",
      "metadata": {
        "id": "OE9TSPbIkOja"
      },
      "source": [
        "#### Pilih baris berdasarkan indeks\n",
        "\n",
        "Pemilihan baris secara teratur dilakukan melalui indeksnya. Saat menggunakan indeks rentang, kami dapat mengakses baris menggunakan indeks bilangan bulat tetapi ini tidak akan berfungsi saat menggunakan indeks datetime misalnya.\n",
        "\n",
        "Kami selalu dapat mengakses setiap baris dalam kerangka data menggunakan `.iloc[i]` untuk beberapa bilangan bulat i.\n",
        "\n",
        "Hasilnya adalah objek seri dari mana kita dapat mengakses nilai dengan menggunakan pengindeksan kolom."
      ]
    },
    {
      "cell_type": "code",
      "metadata": {
        "id": "bcAzbzTqkOjb"
      },
      "source": [
        "df.iloc[0]"
      ],
      "execution_count": null,
      "outputs": []
    },
    {
      "cell_type": "markdown",
      "metadata": {
        "id": "i3Te1iN8kOje"
      },
      "source": [
        "### Sort Function\n",
        "\n",
        "- pandas.pydata.org\n",
        "- https://pandas.pydata.org/pandas-docs/stable/generated/pandas.DataFrame.sort_values.html"
      ]
    },
    {
      "cell_type": "markdown",
      "metadata": {
        "id": "nuHk1Tv9kOjf"
      },
      "source": [
        "#### Urutkan data berdasarkan `pet`\n",
        "\n",
        "Ada dua cara untuk mengurutkan.\n",
        "- Berdasarkan indeks\n",
        "- Berdasarkan nilai\n",
        "\n",
        "Dengan nilai berarti menyortir menurut nilai dalam kolom.\n",
        "\n",
        "Dalam contoh ini kita mengurutkan data pada _DataFrame_ berdasarkan nilai di kolom `pet`.\n",
        "\n",
        "Parameter `ascending = True` berarti kita ingin baris diurutkan dalam urutan menaik. Ini sama dengan sql 'ASC'. Untuk mendapatkan urutan menurun gunakan `ascending = False`.\n",
        "\n",
        "`inplace` sangat penting dan Anda harus selalu mengingatnya. Ketika `inplace=True` kerangka data dimodifikasi di tempat yang berarti tidak ada salinan yang dibuat dan data Anda sebelumnya yang disimpan dalam kerangka data hilang. Secara default inplace selalu False. Ketika salah, salinan dibuat dari data Anda dan salinan itu diurutkan dan dikembalikan sebagai keluaran.\n",
        "\n",
        "Output dari `sort_values` selalu merupakan kerangka data yang dikembalikan tetapi perilakunya sangat bergantung pada parameter `inplace`."
      ]
    },
    {
      "cell_type": "code",
      "metadata": {
        "id": "ps41Q076kOjj"
      },
      "source": [
        "df.sort_values('pet',inplace=True, ascending=True)"
      ],
      "execution_count": null,
      "outputs": []
    },
    {
      "cell_type": "markdown",
      "metadata": {
        "id": "j6l52q0UkOjn"
      },
      "source": [
        "### Indexing with DataFrames\n",
        "\n",
        "Everything we discussed about indexing in numpy arrays applies to dataframes as well.\n",
        "\n",
        "DataFrames are very similar to 2d-arrays with the main exception being that in DataFrames you can index using strings (column names)."
      ]
    },
    {
      "cell_type": "markdown",
      "metadata": {
        "id": "_fe-5qLBkOjn"
      },
      "source": [
        "#### View the index after the sort"
      ]
    },
    {
      "cell_type": "code",
      "metadata": {
        "id": "4gvrRF4skOjp"
      },
      "source": [
        "df"
      ],
      "execution_count": null,
      "outputs": []
    },
    {
      "cell_type": "markdown",
      "metadata": {
        "id": "RVNBwy34kOjv"
      },
      "source": [
        "#### Perbedaan antara `loc` dan `iloc`\n",
        "\n",
        "- `.loc` memilih data berdasarkan nilai index.\n",
        "- `.iloc` memilih berdasarkan nomor posisi."
      ]
    },
    {
      "cell_type": "code",
      "metadata": {
        "id": "N5YSm2zskOjw"
      },
      "source": [
        "df.loc[0] #index based"
      ],
      "execution_count": null,
      "outputs": []
    },
    {
      "cell_type": "code",
      "metadata": {
        "id": "ZHQ5U2QEPziO"
      },
      "source": [
        "df.iloc[0] #relative position based indexing"
      ],
      "execution_count": null,
      "outputs": []
    },
    {
      "cell_type": "markdown",
      "metadata": {
        "id": "DKYsBGgVkOjx"
      },
      "source": [
        "#### Gunakan `iloc` untuk memilih semua baris pada kolom\n",
        "\n",
        "Berikut contoh perintah memilih seluruh baris pada kolom ke-2.\n",
        "\n",
        "Ingat `:` = `::1`\n",
        "\n",
        "Pada konteks _DataFrame_, angka pertama selalu baris dan yang kedua adalah kolom."
      ]
    },
    {
      "cell_type": "code",
      "metadata": {
        "id": "8HXvbEcMkOjy"
      },
      "source": [
        "df.iloc[:,2]"
      ],
      "execution_count": null,
      "outputs": []
    },
    {
      "cell_type": "markdown",
      "metadata": {
        "id": "klUlSe3skOj5"
      },
      "source": [
        "#### Gunakan `iloc` untuk memilih baris terakhir"
      ]
    },
    {
      "cell_type": "code",
      "metadata": {
        "id": "Dpw15V8lkOj6"
      },
      "source": [
        "df.iloc[-1,:]"
      ],
      "execution_count": null,
      "outputs": []
    },
    {
      "cell_type": "markdown",
      "metadata": {
        "id": "9-drG9U3TwNB"
      },
      "source": [
        "### Konsep Dasar Pandas: Latihan"
      ]
    },
    {
      "cell_type": "code",
      "metadata": {
        "id": "cHHUFbLFTwM9"
      },
      "source": [
        "sales = [100,130,119,92,35]\n",
        "customer_account = ['B100','J101','X102','P103','R104']\n",
        "city = ['BOS','LA','NYC','SF','CHI']"
      ],
      "execution_count": null,
      "outputs": []
    },
    {
      "cell_type": "markdown",
      "metadata": {
        "id": "0VhkInt6TwM8"
      },
      "source": [
        "#### Buat _DataFrame_ dengan data di atas"
      ]
    },
    {
      "cell_type": "code",
      "metadata": {
        "id": "nzUWpWS-TwM6"
      },
      "source": [],
      "execution_count": null,
      "outputs": []
    },
    {
      "cell_type": "markdown",
      "metadata": {
        "id": "tmYB4B32TwMy"
      },
      "source": [
        "#### Cetak nama dari kolom pertama"
      ]
    },
    {
      "cell_type": "code",
      "metadata": {
        "id": "5Rogy8ehTwMn"
      },
      "source": [],
      "execution_count": null,
      "outputs": []
    },
    {
      "cell_type": "markdown",
      "metadata": {
        "id": "_SA2hdsLTwMl"
      },
      "source": [
        "#### Urutkan _DataFrame_ berdasarkan `city` secara _ascending_"
      ]
    },
    {
      "cell_type": "code",
      "metadata": {
        "id": "qpE0t45cTwMY"
      },
      "source": [],
      "execution_count": null,
      "outputs": []
    },
    {
      "cell_type": "markdown",
      "metadata": {
        "id": "tY7HNEUDTwMW"
      },
      "source": [
        "#### Cetak data konsumen terakhir di _DataFrame_"
      ]
    },
    {
      "cell_type": "code",
      "metadata": {
        "id": "GWlpTsEYTwL8"
      },
      "source": [],
      "execution_count": null,
      "outputs": []
    },
    {
      "cell_type": "markdown",
      "metadata": {
        "id": "EPMQ69METwLz"
      },
      "source": [
        "#### Reorder the columns with customer in the first column"
      ]
    },
    {
      "cell_type": "code",
      "metadata": {
        "id": "ElacSbWiTwLk"
      },
      "source": [],
      "execution_count": null,
      "outputs": []
    },
    {
      "cell_type": "markdown",
      "metadata": {
        "id": "Uf9o8d3hFYVu"
      },
      "source": [
        "# Fungsi Standard Pandas\n",
        "\n",
        "Mengenal fungsi yang disediakan Pandas, mari kita coba contoh data yang lebih banyak dari file CSV"
      ]
    },
    {
      "cell_type": "markdown",
      "source": [
        "#### Load data dari file CSV\n",
        "\n",
        "File CSV adalah format file data sederhana. Isinya hanyalah data yang masing-masing _record_ nya terdiri dari 1 baris dan masing-masing _field_/_column_ nya dipisah tanda koma.\n",
        "\n",
        "_Google Colab_ menyediakan beberapa contoh data yang diletakan pada folder _sample_data_."
      ],
      "metadata": {
        "id": "6CAZesLf7Xux"
      }
    },
    {
      "cell_type": "code",
      "source": [
        "import pandas as pd\n",
        "\n",
        "df = pd.read_csv(\"sample_data/california_housing_test.csv\")\n",
        "df"
      ],
      "metadata": {
        "id": "BwOIg6y-7SyC"
      },
      "execution_count": null,
      "outputs": []
    },
    {
      "cell_type": "markdown",
      "source": [
        "Beberapa website di internet menyediakan data _real_ yang bisa di download. Berikut beberapa situs yang menyediakan data CSV:\n",
        "- https://data.jakarta.go.id/dataset/\n",
        "- https://data.world/datasets/census\n"
      ],
      "metadata": {
        "id": "CS5K2PGqBp9E"
      }
    },
    {
      "cell_type": "markdown",
      "source": [
        "Untuk bahan pembelajaran, kita akan download data [Data Jumlah Kepala Keluarga Menurut Pekerjaan Jenis Kelamin dan Wilayah](https://data.jakarta.go.id/dataset/b0eb219e26e8e1fe7c521d8b78f9c89f/resource/e9a6fef809483b5cdd6ff545ee694494/download/Data-Jumlah-Kepala-Keluarga-Menurut-Pekerjaan-Jenis-Kelamin-dan-Wilayah-Tahun-2020.csv).\n",
        "Execute script pada 2 cell berikut:\n",
        "\n"
      ],
      "metadata": {
        "id": "yWXsGrhAESiG"
      }
    },
    {
      "cell_type": "code",
      "source": [
        "# download data contoh\n",
        "!wget https://data.jakarta.go.id/dataset/b0eb219e26e8e1fe7c521d8b78f9c89f/resource/e9a6fef809483b5cdd6ff545ee694494/download/Data-Jumlah-Kepala-Keluarga-Menurut-Pekerjaan-Jenis-Kelamin-dan-Wilayah-Tahun-2020.csv -O 2022-jakarta-kk.csv\n",
        "\n"
      ],
      "metadata": {
        "id": "CUar_4lFDsJj"
      },
      "execution_count": null,
      "outputs": []
    },
    {
      "cell_type": "code",
      "source": [
        "# load csv ke DataFrame\n",
        "df = pd.read_csv(\"2022-jakarta-kk.csv\")\n",
        "df"
      ],
      "metadata": {
        "id": "q3LsQLXOEPwT"
      },
      "execution_count": null,
      "outputs": []
    },
    {
      "cell_type": "markdown",
      "metadata": {
        "id": "Wc348x0wkOkj"
      },
      "source": [
        "#### Membaca beberapa baris data pertama\n",
        "\n",
        "Fungsi `head` secara default mencetak 5 baris pertama dari DataFrame Anda.\n",
        "\n",
        "Jika Anda memberikan parameter `n`, ia akan mencetak baris `n` pertama.\n",
        "\n",
        "Dokumen ada [di sini](https://pandas.pydata.org/pandas-docs/stable/generated/pandas.DataFrame.head.html)"
      ]
    },
    {
      "cell_type": "code",
      "metadata": {
        "id": "KX2i7qypkOkk"
      },
      "source": [
        "df.head()"
      ],
      "execution_count": null,
      "outputs": []
    },
    {
      "cell_type": "markdown",
      "metadata": {
        "id": "L3A2aM_OkOkn"
      },
      "source": [
        "#### Membaca 10 baris terakhir\n",
        "\n"
      ]
    },
    {
      "cell_type": "code",
      "metadata": {
        "id": "evveblFBkOko"
      },
      "source": [
        "df.tail(10)"
      ],
      "execution_count": null,
      "outputs": []
    },
    {
      "cell_type": "markdown",
      "metadata": {
        "id": "R1_Rf_HRkOkp"
      },
      "source": [
        "#### Membaca tipe data di DataFrame\n",
        "\n",
        "Fungsi ini akan memberi tahu Anda jenis kolom.\n",
        "\n",
        "Jenis secara otomatis disimpulkan oleh panda dan biasanya Anda tidak perlu mengkhawatirkannya.\n",
        "\n",
        "[dokumen](https://pandas.pydata.org/pandas-docs/stable/generated/pandas.DataFrame.info.html)"
      ]
    },
    {
      "cell_type": "code",
      "metadata": {
        "id": "AbWxmxxfkOkr"
      },
      "source": [
        "df.info()"
      ],
      "execution_count": null,
      "outputs": []
    },
    {
      "cell_type": "markdown",
      "metadata": {
        "id": "Lxk64a-PkOkv"
      },
      "source": [
        "#### Statistik ringkasan dari DataFrame\n",
        "\n",
        "Untuk mempelajari lebih lanjut tentang mendeskripsikan, kunjungi [tautan ini](https://pandas.pydata.org/pandas-docs/stable/generated/pandas.DataFrame.describe.html)"
      ]
    },
    {
      "cell_type": "code",
      "metadata": {
        "id": "I6-BVDGfkOkw"
      },
      "source": [
        "df.describe()"
      ],
      "execution_count": null,
      "outputs": []
    },
    {
      "cell_type": "code",
      "source": [
        "df.describe().T"
      ],
      "metadata": {
        "id": "_cBWsV7RFQi4"
      },
      "execution_count": null,
      "outputs": []
    },
    {
      "cell_type": "markdown",
      "metadata": {
        "id": "JozHv-DpQpWs"
      },
      "source": [
        "### Filter DataFrame\n",
        "\n",
        "Anda dapat memfilter data berdasarkan kolom dan nilai dalam kerangka data\n",
        "\n",
        "Berikut adalah contoh penggunaan filter pada DataFrame"
      ]
    },
    {
      "cell_type": "code",
      "metadata": {
        "id": "VYV0OiujkOk7"
      },
      "source": [
        "# mengambil data yang jenis kelamin LAKI-LAKI dan menyimpannya sebagai object df1\n",
        "df1 = df[df.jenis_kelamin=='LAKI-LAKI']"
      ],
      "execution_count": null,
      "outputs": []
    },
    {
      "cell_type": "code",
      "source": [
        "# dari data yang jenis kelamin LAKI-LAKI, filter data pekerjaan yang Pensiunan\n",
        "df2 = df1[df1.pekerjaan=='Pensiunan']\n",
        "df2"
      ],
      "metadata": {
        "id": "dAR9ds6hIisY"
      },
      "execution_count": null,
      "outputs": []
    },
    {
      "cell_type": "code",
      "source": [],
      "metadata": {
        "id": "yJx0BCYLQDIG"
      },
      "execution_count": null,
      "outputs": []
    },
    {
      "cell_type": "markdown",
      "source": [
        "#### Combine (&) dan Join (|)\n",
        "\n",
        "Anda juga bisa menggabungkan 2 kondisi dalam 1 query"
      ],
      "metadata": {
        "id": "7vwuKkCdQCtO"
      }
    },
    {
      "cell_type": "code",
      "source": [
        "# query data yang adalah LAKI-LAKI DAN Pensiunan\n",
        "df3 = df[(df.jenis_kelamin=='LAKI-LAKI')&(df.pekerjaan=='Pensiunan')]\n",
        "df3"
      ],
      "metadata": {
        "id": "Ljubnj-qQgrc"
      },
      "execution_count": null,
      "outputs": []
    },
    {
      "cell_type": "code",
      "source": [
        "# query data yang adalah LAKI-LAKI ATAU Pegawai Negeri Sipil\n",
        "df3 = df[(df.pekerjaan=='Pensiunan')|(df.pekerjaan=='Pegawai Negeri Sipil')]\n",
        "df3"
      ],
      "metadata": {
        "id": "jXNKDc1CRHZR"
      },
      "execution_count": null,
      "outputs": []
    },
    {
      "cell_type": "markdown",
      "metadata": {
        "id": "1_jDkPD5Q3_l"
      },
      "source": [
        "### Menambahkan fungsi pada filter\n",
        "\n",
        "Kita bisa menambahkan fungsi pada hasil filter. Berikut beberapa fungsi dasar yang kita bisa gunakan."
      ]
    },
    {
      "cell_type": "markdown",
      "source": [
        "#### fungsi `sum()`\n",
        "\n",
        "Fungsi `sum()` digunakan untuk menghitung total dari penjumlahan angka pada kolom terpilih"
      ],
      "metadata": {
        "id": "ufSOc_J-ND1f"
      }
    },
    {
      "cell_type": "code",
      "source": [
        "df.jumlah[df.jenis_kelamin=='LAKI-LAKI'].sum()"
      ],
      "metadata": {
        "id": "DMaRFXqqMOWP"
      },
      "execution_count": null,
      "outputs": []
    },
    {
      "cell_type": "code",
      "source": [
        "df1.jumlah.sum()"
      ],
      "metadata": {
        "id": "sAHub2H4NhQ0"
      },
      "execution_count": null,
      "outputs": []
    },
    {
      "cell_type": "markdown",
      "source": [
        "#### fungsi `mean()`\n",
        "\n",
        "Fungsi `mean()` digunakan untuk menghitung nilai rata-rata dari kolom terpilih"
      ],
      "metadata": {
        "id": "dl5i7jOzNT0F"
      }
    },
    {
      "cell_type": "code",
      "source": [
        "df.jumlah[df.jenis_kelamin=='LAKI-LAKI'].mean()"
      ],
      "metadata": {
        "id": "8utHvOBLNSFO"
      },
      "execution_count": null,
      "outputs": []
    },
    {
      "cell_type": "code",
      "source": [
        "df2.jumlah.mean()"
      ],
      "metadata": {
        "id": "CB0ObAnCNqmB"
      },
      "execution_count": null,
      "outputs": []
    },
    {
      "cell_type": "markdown",
      "source": [
        "#### fungsi `count()`\n",
        "\n",
        "Fungsi `count()` digunakan untuk menghitung jumlah data. Untuk perhitungan sederhana, bisa memilih sembarang kolom untuk dikenakan fungsi `count()`"
      ],
      "metadata": {
        "id": "1mZSKaWeOH2D"
      }
    },
    {
      "cell_type": "code",
      "metadata": {
        "id": "-XUzMAjlQzze"
      },
      "source": [
        "df.jumlah.count()"
      ],
      "execution_count": null,
      "outputs": []
    },
    {
      "cell_type": "code",
      "source": [
        "df.pekerjaan.count()"
      ],
      "metadata": {
        "id": "uc7E580_OkIZ"
      },
      "execution_count": null,
      "outputs": []
    },
    {
      "cell_type": "code",
      "source": [
        "df.shape[0]"
      ],
      "metadata": {
        "id": "3han_UhROrT3"
      },
      "execution_count": null,
      "outputs": []
    },
    {
      "cell_type": "markdown",
      "source": [
        "Fungsi `shape[0]` dan `count()` memiliki kegunaan yang sama. Anda bisa menggunakannya sesuai kondisi."
      ],
      "metadata": {
        "id": "EOdgaGa6OweQ"
      }
    },
    {
      "cell_type": "markdown",
      "metadata": {
        "id": "Qr5kDLXikOlN"
      },
      "source": [
        "### Pengelompokan data dengan `groupby`\n",
        "\n",
        "Metode `groupby` adalah salah satu fungsi terpenting yang akan Anda gunakan dalam pekerjaan sehari-hari.\n",
        "\n",
        "Parameter input utamanya adalah string yang menunjukkan nama kolom atau daftar string yang menunjukkan daftar nama kolom.\n",
        "\n",
        "Outputnya adalah objek GroupBy yang sangat mirip dengan _DataFrame_.\n",
        "\n",
        "Pengoperasian groupby sama dengan SQL GROUPBY atau _Pivot Table_ pada _MS Excel_\n",
        "\n",
        "Untuk info selengkapnya, lihat [dokumen](https://pandas.pydata.org/pandas-docs/stable/generated/pandas.DataFrame.groupby.html)."
      ]
    },
    {
      "cell_type": "code",
      "metadata": {
        "id": "6HUfJ-WgkOlO"
      },
      "source": [
        "# contoh menghitung jumlah penduduk per masing-masing kecamatan\n",
        "df.groupby('kecamatan').jumlah.sum()"
      ],
      "execution_count": null,
      "outputs": []
    },
    {
      "cell_type": "markdown",
      "source": [
        "Anda juga bisa menggunakan 2 kriteria _groupby_. Jika Anda menggunakan lebih dari satu kriteria, daftar kriteria ditulis dalam bentuk _list_."
      ],
      "metadata": {
        "id": "pgEyKVJ_Uib6"
      }
    },
    {
      "cell_type": "code",
      "source": [
        "df4 = df.groupby(['kecamatan','jenis_kelamin']).jumlah.sum()\n",
        "df4"
      ],
      "metadata": {
        "id": "H3w9RlEHUEx8"
      },
      "execution_count": null,
      "outputs": []
    },
    {
      "cell_type": "markdown",
      "metadata": {
        "id": "le2scA1okOlj"
      },
      "source": [
        "### Latihan"
      ]
    },
    {
      "cell_type": "markdown",
      "metadata": {
        "id": "721I5B1lkOlj"
      },
      "source": [
        "#### Berapa jumlah penduduk wanita?"
      ]
    },
    {
      "cell_type": "code",
      "metadata": {
        "id": "Z9xvt457kOlk"
      },
      "source": [],
      "execution_count": null,
      "outputs": []
    },
    {
      "cell_type": "markdown",
      "metadata": {
        "id": "-x5IgI-fkOl2"
      },
      "source": [
        "#### Berapa jumlah penduduk LAKI-LAKI di kecamatan CIPAYUNG?"
      ]
    },
    {
      "cell_type": "code",
      "metadata": {
        "id": "pgNLpPTskOl2"
      },
      "source": [],
      "execution_count": null,
      "outputs": []
    },
    {
      "cell_type": "markdown",
      "source": [
        "#### Berapa jumlah penduduk PEREMPUAN yang adalah Pegawai Negeri Sipil?"
      ],
      "metadata": {
        "id": "4ZHSz7HbW84W"
      }
    },
    {
      "cell_type": "code",
      "source": [],
      "metadata": {
        "id": "NnKMvP43XDmN"
      },
      "execution_count": null,
      "outputs": []
    },
    {
      "cell_type": "markdown",
      "source": [
        "#### Berapa jumlah penduduk PEREMPUAN yang adalah Pegawai Negeri Sipil dan tinggal di JAKARTA TIMUR"
      ],
      "metadata": {
        "id": "wUJm706QXJ2z"
      }
    },
    {
      "cell_type": "code",
      "source": [],
      "metadata": {
        "id": "3yMP3VTIW9Ws"
      },
      "execution_count": null,
      "outputs": []
    },
    {
      "cell_type": "markdown",
      "metadata": {
        "id": "_TSm_oFMkOl4"
      },
      "source": [
        "#### Berapa rata-rata jumlah PEREMPUAN per masing-masing kecamatan"
      ]
    },
    {
      "cell_type": "code",
      "metadata": {
        "id": "nS4ek1rjkOl5"
      },
      "source": [],
      "execution_count": null,
      "outputs": []
    }
  ]
}