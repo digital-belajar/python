{
  "nbformat": 4,
  "nbformat_minor": 0,
  "metadata": {
    "colab": {
      "provenance": [],
      "collapsed_sections": [
        "99Z2b_M2Jxu7",
        "--fvldE-MA2L",
        "ZDoq-6IWy2yj"
      ],
      "toc_visible": true,
      "include_colab_link": true
    },
    "kernelspec": {
      "name": "python3",
      "display_name": "Python 3"
    },
    "language_info": {
      "name": "python"
    }
  },
  "cells": [
    {
      "cell_type": "markdown",
      "metadata": {
        "id": "view-in-github",
        "colab_type": "text"
      },
      "source": [
        "<a href=\"https://colab.research.google.com/github/pujangga123/ruang-belajar-python/blob/master/notebook/06-computer-vision.ipynb\" target=\"_parent\"><img src=\"https://colab.research.google.com/assets/colab-badge.svg\" alt=\"Open In Colab\"/></a>"
      ]
    },
    {
      "cell_type": "markdown",
      "source": [],
      "metadata": {
        "id": "-dwcDmtek-0e"
      }
    },
    {
      "cell_type": "markdown",
      "source": [
        "# Computer Vision\n",
        "\n",
        "Pada pertemuan ini kita akan coba melakukan manipulasi gambar di _python_ menggunakan modul _OpenCV_ dan _pillow_\n",
        "\n",
        "\n",
        "File contoh:\n",
        "- [face1.jpg](https://github.com/pujangga123/ruang-belajar-python/blob/master/notebook/data/face1.jpg)\n",
        "- [sprites.jpg](https://github.com/pujangga123/ruang-belajar-python/blob/master/notebook/data/sprites.jpg)\n",
        "- [group3.jpg](https://github.com/pujangga123/ruang-belajar-python/blob/master/notebook/data/group3.jpg)\n",
        "- [group2.jpg](https://github.com/pujangga123/ruang-belajar-python/blob/master/notebook/data/group2.jpg)\n",
        "\n",
        "OpenCV data:\n",
        "- [haarcascade_frontalface_default.xml](https://github.com/pujangga123/ruang-belajar-python/raw/master/notebook/data/haarcascade_frontalface_default.xml)\n",
        "- [haarcascade_eye.xml](https://github.com/pujangga123/ruang-belajar-python/raw/master/notebook/data/haarcascade_eye.xml)\n",
        "\n",
        "Face Generator: https://thispersondoesnotexist.com/"
      ],
      "metadata": {
        "id": "3vqVof-pyn3H"
      }
    },
    {
      "cell_type": "code",
      "source": [
        "!wget https://github.com/pujangga123/ruang-belajar-python/raw/master/notebook/data/face1.jpg -O face2.jpg\n",
        "!wget https://github.com/pujangga123/ruang-belajar-python/raw/master/notebook/data/sprites.jpg -O sprites.jpg\n",
        "!wget https://github.com/pujangga123/ruang-belajar-python/raw/master/notebook/data/group3.jpg -O group3.jpg\n",
        "!wget https://github.com/pujangga123/ruang-belajar-python/raw/master/notebook/data/group2.jpg -O group2.jpg\n",
        "!wget https://raw.githubusercontent.com/pujangga123/ruang-belajar-python/master/notebook/data/haarcascade_eye.xml -O haarcascade_eye.xml\n",
        "!wget https://raw.githubusercontent.com/pujangga123/ruang-belajar-python/master/notebook/data/haarcascade_frontalface_default.xml -O haarcascade_frontalface_default.xml\n"
      ],
      "metadata": {
        "id": "ILPABGB481gw"
      },
      "execution_count": null,
      "outputs": []
    },
    {
      "cell_type": "markdown",
      "source": [
        "## OpenCV\n",
        "\n",
        "OpenCV adalah modul yang digunakan untuk _Computer Vision_. Berbagai pengolahan gambar bisa dilakukan menggunakan modul ini.\n",
        "\n",
        "- https://www.pyimagesearch.com/2018/07/19/opencv-tutorial-a-guide-to-learn-opencv/\n",
        "- https://www.geeksforgeeks.org/python-opencv-cv2-rotate-method/"
      ],
      "metadata": {
        "id": "XkisR82F1Ile"
      }
    },
    {
      "cell_type": "code",
      "source": [
        "# install modul opencsv \n",
        "! pip install opencv-python\n",
        "\n",
        "#untuk CV\n",
        "import imutils\n",
        "import cv2\n",
        "from google.colab.patches import cv2_imshow"
      ],
      "metadata": {
        "id": "Ezs7aAcxDJ4W"
      },
      "execution_count": null,
      "outputs": []
    },
    {
      "cell_type": "code",
      "source": [
        "# membaca gambar menggunakan opencv\n",
        "image = cv2.imread(\"face2.jpg\")  \n",
        "cv2_imshow(image)"
      ],
      "metadata": {
        "id": "ZgfHzEzE0w7L"
      },
      "execution_count": null,
      "outputs": []
    },
    {
      "cell_type": "markdown",
      "source": [
        "### Transformation\n",
        "\n"
      ],
      "metadata": {
        "id": "QSt62cPfEjp1"
      }
    },
    {
      "cell_type": "code",
      "source": [
        "im2 = cv2.resize(image,(400,400))\n",
        "cv2_imshow(im2)"
      ],
      "metadata": {
        "id": "Dshz_xdFExcM"
      },
      "execution_count": null,
      "outputs": []
    },
    {
      "cell_type": "code",
      "source": [
        "(width, height, depth) = image.shape \n",
        "print(\"Width:\", width)\n",
        "print(\"Height:\", height) "
      ],
      "metadata": {
        "id": "W_Zw7x9sI_pg"
      },
      "execution_count": null,
      "outputs": []
    },
    {
      "cell_type": "code",
      "source": [
        "(width, height, depth) = image.shape \n",
        "\n",
        "im2 = cv2.resize(image,(int(width * 0.5) , int(height * 0.5)))\n",
        "cv2_imshow(im2)\n"
      ],
      "metadata": {
        "id": "VNv7IoMLdSmm"
      },
      "execution_count": null,
      "outputs": []
    },
    {
      "cell_type": "code",
      "source": [
        "# https://www.geeksforgeeks.org/python-opencv-cv2-rotate-method/\n",
        "rotated = cv2.rotate(im2, cv2.ROTATE_180) \n",
        "cv2_imshow(rotated)"
      ],
      "metadata": {
        "id": "rEPem0b5K_Tb"
      },
      "execution_count": null,
      "outputs": []
    },
    {
      "cell_type": "code",
      "source": [
        "# https://www.geeksforgeeks.org/python-opencv-cv2-flip-method/\n",
        "flipped = cv2.flip(im2,1)\n",
        "cv2_imshow(flipped)"
      ],
      "metadata": {
        "id": "huhJevl3LFxj"
      },
      "execution_count": null,
      "outputs": []
    },
    {
      "cell_type": "markdown",
      "source": [
        "### Color"
      ],
      "metadata": {
        "id": "HoAxlFP3EQEb"
      }
    },
    {
      "cell_type": "code",
      "source": [
        "# https://medium.com/@yukunpengba/comprehensive-python-opencv-tutorial-for-beginners-part-i-fd0293d52241\n",
        "\n",
        "img = cv2.imread('face2.jpg', cv2.IMREAD_UNCHANGED)\n",
        "grayImg = cv2.cvtColor(img,cv2.COLOR_BGR2GRAY);\n",
        "cv2_imshow(grayImg)"
      ],
      "metadata": {
        "id": "SopyeALYBhE5"
      },
      "execution_count": null,
      "outputs": []
    },
    {
      "cell_type": "markdown",
      "source": [
        "### Edge Detection\n",
        "\n",
        "Referensi:\n",
        "- https://www.tutorialkart.com/opencv/python/image-edge-detection/"
      ],
      "metadata": {
        "id": "99Z2b_M2Jxu7"
      }
    },
    {
      "cell_type": "code",
      "source": [
        "edges = cv2.Canny(image,100,100)\n",
        " \n",
        "cv2_imshow(edges)"
      ],
      "metadata": {
        "id": "IdaX3r3AJ1OD"
      },
      "execution_count": null,
      "outputs": []
    },
    {
      "cell_type": "markdown",
      "source": [
        "### Blur\n",
        "\n",
        "Referensi:\n",
        "- https://docs.opencv.org/master/d4/d86/group__imgproc__filter.html#gaabe8c836e97159a9193fb0b11ac52cf1\n"
      ],
      "metadata": {
        "id": "--fvldE-MA2L"
      }
    },
    {
      "cell_type": "code",
      "source": [
        "blurred = cv2.GaussianBlur(image, (11, 11), 0)\n",
        "cv2_imshow(blurred)"
      ],
      "metadata": {
        "id": "g4WUCPCeMGHT"
      },
      "execution_count": null,
      "outputs": []
    },
    {
      "cell_type": "markdown",
      "source": [
        "### Draw\n",
        "\n",
        "Referensi:\n",
        "- https://docs.opencv.org/master/d6/d6e/group__imgproc__draw.html#ga07d2f74cadcf8e305e810ce8eed13bc9"
      ],
      "metadata": {
        "id": "JiHf5e2DMOKD"
      }
    },
    {
      "cell_type": "code",
      "source": [
        "output = image.copy()\n",
        "cv2.rectangle(output, (200, 200), (0, 0), (255, 255, 255), 3)  # pada OpenCV, warna menggunakan system BGR\n",
        "cv2_imshow(output)"
      ],
      "metadata": {
        "id": "I42kmy9iMTui"
      },
      "execution_count": null,
      "outputs": []
    },
    {
      "cell_type": "code",
      "source": [
        "output = image.copy()\n",
        "cv2.circle(output, (300, 150), 30, (255, 0, 0), -1)\n",
        "cv2_imshow(output)"
      ],
      "metadata": {
        "id": "KYvf8brkMWYr"
      },
      "execution_count": null,
      "outputs": []
    },
    {
      "cell_type": "code",
      "source": [
        "output = image.copy()\n",
        "cv2.line(output, (60, 20), (400, 200), (0, 0, 255), 5)\n",
        "cv2_imshow(output)"
      ],
      "metadata": {
        "id": "Sh2LIq3_MYrz"
      },
      "execution_count": null,
      "outputs": []
    },
    {
      "cell_type": "code",
      "source": [
        "output = image.copy()\n",
        "cv2.putText(output, \"Halo\", (10, 90), cv2.FONT_HERSHEY_SIMPLEX, 3, (0, 0, 255), 2)\n",
        "cv2_imshow(output)"
      ],
      "metadata": {
        "id": "X6U4e7u8MbZz"
      },
      "execution_count": null,
      "outputs": []
    },
    {
      "cell_type": "markdown",
      "source": [
        "#### Image Count"
      ],
      "metadata": {
        "id": "sQ22533PM1J5"
      }
    },
    {
      "cell_type": "code",
      "source": [
        "image = cv2.imread(\"sprites.jpg\") \n",
        "cv2_imshow(image)"
      ],
      "metadata": {
        "id": "BkoR_U0WlL5W"
      },
      "execution_count": null,
      "outputs": []
    },
    {
      "cell_type": "code",
      "source": [
        "gray = cv2.cvtColor(image, cv2.COLOR_BGR2GRAY)\n",
        "cv2_imshow(gray)"
      ],
      "metadata": {
        "id": "v5t1REJaM3jL"
      },
      "execution_count": null,
      "outputs": []
    },
    {
      "cell_type": "code",
      "source": [
        "edged = cv2.Canny(gray, 30, 150)\n",
        "cv2_imshow(edged)"
      ],
      "metadata": {
        "id": "MI3GOlvONN9D"
      },
      "execution_count": null,
      "outputs": []
    },
    {
      "cell_type": "code",
      "source": [
        "thresh = cv2.threshold(gray, 225, 255, cv2.THRESH_BINARY_INV)[1]\n",
        "cv2_imshow(thresh)"
      ],
      "metadata": {
        "id": "4xES4CcJNMBj"
      },
      "execution_count": null,
      "outputs": []
    },
    {
      "cell_type": "code",
      "source": [
        "cnts = cv2.findContours(thresh.copy(), cv2.RETR_EXTERNAL,\tcv2.CHAIN_APPROX_SIMPLE)\n",
        "cnts = imutils.grab_contours(cnts)\n",
        "output = image.copy()\n",
        "# loop over the contours\n",
        "n = 0 \n",
        "for c in cnts:\n",
        "\t# draw each contour on the output image with a 3px thick purple\n",
        "\t# outline, then display the output contours one at a time\n",
        "\tcv2.drawContours(output, [c], -1, (0, 255, 0), 3)\n",
        "\tn += 1\n",
        "\n",
        "print(\"Banyak Objek:\", n)\n",
        "cv2_imshow(output)"
      ],
      "metadata": {
        "id": "pcbpEaCuNK5r"
      },
      "execution_count": null,
      "outputs": []
    },
    {
      "cell_type": "markdown",
      "metadata": {
        "id": "tFQB6Zyls8sn"
      },
      "source": [
        "### Object Detection\n",
        "referensi:\n",
        "- https://www.pyimagesearch.com/2018/11/12/yolo-object-detection-with-opencv/\n",
        "- https://github.com/opencv/opencv/tree/4.5.4/data"
      ]
    },
    {
      "cell_type": "code",
      "source": [
        "img = cv2.imread('group3.jpg')\n",
        "cv2_imshow(img)"
      ],
      "metadata": {
        "id": "8vhg08IXmSTj"
      },
      "execution_count": null,
      "outputs": []
    },
    {
      "cell_type": "code",
      "execution_count": null,
      "metadata": {
        "id": "OdFXNPymxEss"
      },
      "outputs": [],
      "source": [
        "import numpy as np\n",
        "import cv2\n",
        "from google.colab import drive\n",
        "import imutils\n",
        "from google.colab.patches import cv2_imshow\n",
        "\n",
        "# database pengetahuan standar\n",
        "face_cascade = cv2.CascadeClassifier('haarcascade_frontalface_default.xml')\n",
        "\n",
        "img = cv2.imread('group3.jpg')\n",
        "gray = cv2.cvtColor(img, cv2.COLOR_BGR2GRAY)\n",
        "\n",
        "faces = face_cascade.detectMultiScale(gray, 1.3, 5)\n",
        "orang = 0\n",
        "for (x,y,w,h) in faces:    \n",
        "    orang += 1\n",
        "    img = cv2.rectangle(img,(x,y),(x+w,y+h),(0,0,255),2)\n",
        "\n",
        "\n",
        "(h, w, d) = img.shape\n",
        "print(\"width={}, height={}, depth={}\".format(w, h, d))\n",
        "print(\"Ada\",orang,\"orang\")\n",
        "cv2_imshow(img)"
      ]
    },
    {
      "cell_type": "code",
      "source": [
        "import numpy as np\n",
        "import cv2\n",
        "from google.colab import drive\n",
        "import imutils\n",
        "from google.colab.patches import cv2_imshow\n",
        "\n",
        "# database pengetahuan standar\n",
        "face_cascade = cv2.CascadeClassifier('haarcascade_frontalface_default.xml')\n",
        "eye_cascade  = cv2.CascadeClassifier('haarcascade_eye.xml')\n",
        "\n",
        "img = cv2.imread('faces.png')\n",
        "gray = cv2.cvtColor(img, cv2.COLOR_BGR2GRAY)\n",
        "\n",
        "faces = face_cascade.detectMultiScale(gray, 1.3, 5)\n",
        "orang = 0\n",
        "for (x,y,w,h) in faces:    \n",
        "    orang += 1\n",
        "    img = cv2.rectangle(img,(x,y),(x+w,y+h),(0,0,255),2)\n",
        "    roi_gray = gray[y:y+h, x:x+w]\n",
        "    roi_color = img[y:y+h, x:x+w]\n",
        "    eyes = eye_cascade.detectMultiScale(roi_gray)\n",
        "    for (ex,ey,ew,eh) in eyes:\n",
        "        cv2.rectangle(roi_color,(ex,ey),(ex+ew,ey+eh),(0,255,0),2)\n",
        "\n",
        "(h, w, d) = img.shape\n",
        "print(\"width={}, height={}, depth={}\".format(w, h, d))\n",
        "print(\"Ada\",orang,\"orang\")\n",
        "cv2_imshow(img)"
      ],
      "metadata": {
        "id": "rFmAze_uRLez"
      },
      "execution_count": null,
      "outputs": []
    },
    {
      "cell_type": "markdown",
      "source": [
        "### Object Detection Menggunakan Webcam"
      ],
      "metadata": {
        "id": "6l1ylZWD-Vrr"
      }
    },
    {
      "cell_type": "code",
      "source": [
        "# PREP CAMERA\n",
        "# siapkan function untuk mengambil gambar via webcam\n",
        "from IPython.display import display, Javascript\n",
        "from google.colab.output import eval_js\n",
        "from base64 import b64decode\n",
        "\n",
        "def take_photo(filename='photo.jpg', quality=0.8):\n",
        "  js = Javascript('''\n",
        "    async function takePhoto(quality) {\n",
        "      const div = document.createElement('div');\n",
        "      const capture = document.createElement('button');\n",
        "      capture.textContent = 'Capture';\n",
        "      div.appendChild(capture);\n",
        "\n",
        "      const video = document.createElement('video');\n",
        "      video.style.display = 'block';\n",
        "      const stream = await navigator.mediaDevices.getUserMedia({video: true});\n",
        "\n",
        "      document.body.appendChild(div);\n",
        "      div.appendChild(video);\n",
        "      video.srcObject = stream;\n",
        "      await video.play();\n",
        "\n",
        "      // Resize the output to fit the video element.\n",
        "      google.colab.output.setIframeHeight(document.documentElement.scrollHeight, true);\n",
        "\n",
        "      // Wait for Capture to be clicked.\n",
        "      await new Promise((resolve) => capture.onclick = resolve);\n",
        "\n",
        "      const canvas = document.createElement('canvas');\n",
        "      canvas.width = video.videoWidth;\n",
        "      canvas.height = video.videoHeight;\n",
        "      canvas.getContext('2d').drawImage(video, 0, 0);\n",
        "      stream.getVideoTracks()[0].stop();\n",
        "      div.remove();\n",
        "      return canvas.toDataURL('image/jpeg', quality);\n",
        "    }\n",
        "    ''')\n",
        "  display(js)\n",
        "  data = eval_js('takePhoto({})'.format(quality))\n",
        "  binary = b64decode(data.split(',')[1])\n",
        "  with open(filename, 'wb') as f:\n",
        "    f.write(binary)\n",
        "  return filename"
      ],
      "metadata": {
        "id": "xQEshrgb-dxA"
      },
      "execution_count": null,
      "outputs": []
    },
    {
      "cell_type": "code",
      "source": [
        "# DISPLAY CAMERA & CAPTURE\n",
        "# tampilkan interface camera webcam\n",
        "from IPython.display import Image\n",
        "try:\n",
        "  filename = take_photo()\n",
        "  print('Saved to {}'.format(filename))\n",
        "  \n",
        "  # Show the image which was just taken.\n",
        "  display(Image(filename))\n",
        "except Exception as err:\n",
        "  # Errors will be thrown if the user does not have a webcam or if they do not\n",
        "  # grant the page permission to access it.\n",
        "  print(str(err))"
      ],
      "metadata": {
        "id": "pgBz0Cm_-hhg"
      },
      "execution_count": null,
      "outputs": []
    },
    {
      "cell_type": "code",
      "source": [
        "# DETEKSI WAJAH dan tampilkan hasil\n",
        "\n",
        "import numpy as np\n",
        "import cv2\n",
        "from google.colab import drive\n",
        "import imutils\n",
        "from google.colab.patches import cv2_imshow\n",
        "\n",
        "# database pengetahuan standar\n",
        "face_cascade = cv2.CascadeClassifier('haarcascade_frontalface_default.xml')\n",
        "\n",
        "img = cv2.imread(filename)\n",
        "gray = cv2.cvtColor(img, cv2.COLOR_BGR2GRAY)\n",
        "\n",
        "faces = face_cascade.detectMultiScale(gray, 1.3, 5)\n",
        "orang = 0\n",
        "for (x,y,w,h) in faces:    \n",
        "    orang += 1\n",
        "    img = cv2.rectangle(img,(x,y),(x+w,y+h),(0,0,255),2)\n",
        "\n",
        "(h, w, d) = img.shape\n",
        "print(\"width={}, height={}, depth={}\".format(w, h, d))\n",
        "print(\"Ada\",orang,\"orang\")\n",
        "cv2_imshow(img)"
      ],
      "metadata": {
        "id": "Lbni1BFX-U2-"
      },
      "execution_count": null,
      "outputs": []
    },
    {
      "cell_type": "markdown",
      "source": [
        "## Pillow: Python Image Library\n",
        "\n",
        "Tutorial _pillow_ Anda bisa temui di:\n",
        "- https://pillow.readthedocs.io/en/stable/handbook/tutorial.html"
      ],
      "metadata": {
        "id": "WHEHin_J3RM_"
      }
    },
    {
      "cell_type": "markdown",
      "source": [
        "### Load Image\n",
        "\n",
        "Load image bisa dilakukan lewat beberapa cara. Yang akan kita pelajari: 1. load image dari file; 2. load file dari URL/internet\n"
      ],
      "metadata": {
        "id": "ZDoq-6IWy2yj"
      }
    },
    {
      "cell_type": "code",
      "execution_count": null,
      "metadata": {
        "id": "mvCQe0notChx"
      },
      "outputs": [],
      "source": [
        "# LOAD IMAGE DARI FILE\n",
        "from PIL import Image                 # load module Image. Image adalah class yang akan menampung gambar\n",
        "from IPython.display import display   # load display, perintah untuk menampilkan gambar\n",
        "\n",
        "# load image dari file\n",
        "im = Image.open(\"face1.jpg\")\n",
        "\n",
        "# tampilkan gambar\n",
        "display(im)"
      ]
    },
    {
      "cell_type": "code",
      "source": [
        "# 2. LOAD IMAGE DARI\n",
        "from PIL import Image  # load module Image. Image adalah class yang akan menampung gambar\n",
        "import requests        # modul yang digunakan untuk mengambil informasi dari internet menggunakan protokol http\n",
        "# referensi tambahan:\n",
        "#   https://stackoverflow.com/questions/7391945/how-do-i-read-image-data-from-a-url-in-python\n",
        "\n",
        "# baca file dari internet/url\n",
        "im = Image.open(requests.get(\"https://thispersondoesnotexist.com/image\", stream=True).raw)\n",
        "# tampilkan gambar\n",
        "display(im)"
      ],
      "metadata": {
        "id": "y7Dur8BAzNp1"
      },
      "execution_count": null,
      "outputs": []
    },
    {
      "cell_type": "code",
      "source": [
        "# https://www.geeksforgeeks.org/python-pil-image-resize-method/\n",
        "\n",
        "width, height = im.size\n",
        "print(\"Width:\", width)\n",
        "print(\"Height:\", height)"
      ],
      "metadata": {
        "id": "HGeMbtWv3bw-"
      },
      "execution_count": null,
      "outputs": []
    },
    {
      "cell_type": "markdown",
      "source": [
        "### Transformation\n",
        "\n",
        "Transformasi gambar yang bisa dilakukan lewat pillow:\n",
        "- rotation\n",
        "- flip\n",
        "- resize"
      ],
      "metadata": {
        "id": "7tGur6FI3JF-"
      }
    },
    {
      "cell_type": "code",
      "source": [
        "out = im2.transpose(Image.FLIP_TOP_BOTTOM)\n",
        "display(out)"
      ],
      "metadata": {
        "id": "kmXsoiDa3woE"
      },
      "execution_count": null,
      "outputs": []
    },
    {
      "cell_type": "code",
      "source": [
        "newsize = (300,300)\n",
        "im2 = im.resize(newsize)\n",
        "display(im2)"
      ],
      "metadata": {
        "id": "0NSAY0Ob3juE"
      },
      "execution_count": null,
      "outputs": []
    },
    {
      "cell_type": "code",
      "source": [
        "# mengecilkan ukuran gambar sampai 30%"
      ],
      "metadata": {
        "id": "HThek6cVkN9T"
      },
      "execution_count": null,
      "outputs": []
    },
    {
      "cell_type": "code",
      "source": [
        "box = (10, 10, 10, 10)\n",
        "im3 = im2.rotate(-90)\n",
        "display(im3)"
      ],
      "metadata": {
        "id": "igI-4K-u1hQ8"
      },
      "execution_count": null,
      "outputs": []
    },
    {
      "cell_type": "code",
      "source": [
        "out = im2.transpose(Image.FLIP_LEFT_RIGHT)\n",
        "display(out)"
      ],
      "metadata": {
        "id": "FYBio9Yk3iOX"
      },
      "execution_count": null,
      "outputs": []
    }
  ]
}