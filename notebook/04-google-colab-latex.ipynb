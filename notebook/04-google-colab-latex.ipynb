{
  "cells": [
    {
      "cell_type": "markdown",
      "metadata": {
        "id": "view-in-github",
        "colab_type": "text"
      },
      "source": [
        "<a href=\"https://colab.research.google.com/github/ruang-belajar/python/blob/master/notebook/04-google-colab-latex.ipynb\" target=\"_parent\"><img src=\"https://colab.research.google.com/assets/colab-badge.svg\" alt=\"Open In Colab\"/></a>"
      ]
    },
    {
      "cell_type": "markdown",
      "metadata": {
        "id": "8btrEZXPb4gK"
      },
      "source": [
        "# Pengantar LaTeX\n",
        "\n",
        "Pada _cell_ dengan jenis _Text_, Anda bisa membuat tulisan (bukan program) yang bisa gunakan untuk memberikan narasi pada _notebook_. Tulisan ini bisa diformat menggunakan format $\\LaTeX$.\n",
        "\n",
        "Dalam tutorial ini, Anda akan mempelajari beberapa dasar tentang cara menggunakan $\\LaTeX$ untuk menampilkan persamaan di notebook Jupyter. Untuk mencari simbol yang mungkin Anda perlukan, Anda dapat menggunakan salah satu dari [_cheatsheet_](http://users.dickinson.edu/~richesod/latex/latexcheatsheet.pdf) yang dapat Anda temukan dengan bertanya ke Google.\n"
      ]
    },
    {
      "cell_type": "markdown",
      "source": [
        "## Format Dasar\n",
        "\n",
        "Berikut adalah _markdown format_ yang digunakan untuk formating tulisan di _notebook_\n",
        "\n",
        "| penulisan | hasil |\n",
        "| --- | --- |\n",
        "| `_cetak miring_` | _cetak miring_ |\n",
        "| `*cetak miring*` | *cetak miring* |\n",
        "| `__cetak tebal__` | __cetak tebal__ |\n",
        "| `**cetak tebal**` | **cetak tebal** |\n",
        "| `_**cetak miring tebal**_` | _**cetak miring tebal**_ |\n",
        "| `# Judul 1` | <h1>Judul 1</h1> |\n",
        "| `## Judul 2` | <h2>Judul 2</h2> |\n",
        "| `### Judul 3` | <h3>Judul 3</h3> |\n",
        "| `#### Judul 4` | <h4>Judul 4</h4> |\n",
        "| `##### Judul 5` | <h5>Judul 5</h5> |\n",
        "| `[Google](https://google.com)` | [google](https://google.com) |\n",
        "\n",
        "\n",
        "Daftar perintah yang lebih lengkap Anda bisa lihat di https://commonmark.org/help/\n"
      ],
      "metadata": {
        "id": "BADnHb6XmOG_"
      }
    },
    {
      "cell_type": "markdown",
      "metadata": {
        "id": "bXaSBzHwb4gR"
      },
      "source": [
        "## Menulis Formula Matematika Menggunakan LaTeX\n",
        "\n",
        "Untuk menyematkan LaTeX dalam teks, cukup rangkum bagian LaTeX dalam tanda dolar (\"$`). MathJax mengurus sisanya. Sebagai contoh, pertimbangkan kalimat di bawah ini dan kode markdown/LaTeX untuk merendernya.\n",
        "\n",
        "Einstein memberi tahu kami bahwa $E = mc^2$.\n",
        "\n",
        "    Einstein memberi tahu kami bahwa $E = mc^2$.\n",
        "\n",
        "Perhatikan bagaimana persamaan ditampilkan dengan benar, dengan variabel matematika dicetak miring. Perhatikan juga bagaimana `^2` digunakan untuk menaikkan pangkat. Jika kekuatan memiliki lebih dari satu karakter di dalamnya, itu harus diapit oleh tanda kurung (`{}`). Faktanya, kawat gigi digunakan untuk mengelompokkan simbol secara umum di LaTeX.\n",
        "\n",
        "Euler memberi tahu kami bahwa $\\mathrm{e}^{i \\pi} - 1 = 0$.\n",
        "\n",
        "    Euler memberi tahu kami bahwa $\\mathrm{e}^{i \\pi} - 1 = 0$.\n",
        "\n",
        "Selain tanda kurung pengelompokan, ada beberapa item catatan sintaksis lainnya. Pertama, perhatikan bahwa saya membuat karakter khusus $\\pi$ dengan `\\pi`. Secara umum, garis miring ke belakang mendahului simbol atau perintah khusus di LaTeX. Jika kita menginginkan huruf Yunani lainnya, seperti $\\theta$, kita menggunakan `\\theta`. Sekarang, perhatikan juga bahwa saya menggunakan \"`\\mathrm{e}`\" untuk basis logaritma natural. Saya memberi isyarat ke LaTeX bahwa saya ingin karakter ditulis dalam huruf Romawi, dan bukan huruf miring, jadi saya menggunakan `\\mathrm`. Semua yang ada di dalam kurung setelah fungsi `\\mathrm` dirender dalam font Romawi. Perhatikan perbedaannya.\n",
        "\n",
        "Ini $e$. Ini adalah $\\mathrm{e}$\n",
        "\n",
        "    Ini $e$. Ini adalah $\\mathrm{e}$.\n",
        "\n",
        "Sekarang, kembali ke pengelompokan benda-benda di dalam kurung. Kita dapat melakukan pengelompokan serupa menggunakan tanda kurung dengan dengan _subscript_.\n",
        "\n",
        "Perkalian titik dari dua vektor $n$ adalah $\\mathbf{a} \\cdot \\mathbf{b} = \\sum_{i=1}^n a_i b_i$.\n",
        "\n",
        "    Perkalian titik dari dua vektor $n$ adalah $\\mathbf{a} \\cdot \\mathbf{b} = \\sum_{i=1}^n a_i b_i$.\n",
        "\n",
        "Di sini, saya telah menggunakan `$\\mathbf{a}$` untuk membuat karakter `a` huruf tebal, yang menunjukkan vektor. Perhatikan bahwa kami menunjukkan _subscript_ dengan garis bawah. Perhatikan juga bahwa batas penjumlahan menggunakan notasi garis bawah dan tanda sisipan yang sama seperti untuk _subscript_ dan _superscript_."
      ]
    },
    {
      "cell_type": "markdown",
      "metadata": {
        "id": "4OL6oJpSb4gT"
      },
      "source": [
        "## Menampilkan persamaan pada baris terpisah\n",
        "\n",
        "Tampilan `i=1` mungkin terlihat aneh. Ini karena persamaan khusus ini ditulis sebaris. Jika kita telah memisahkannya dari teks, itu diterjemahkan secara berbeda.\n",
        "\n",
        "Kita dapat membuat persamaan tampak terpusat pada baris baru, seperti\n",
        "\n",
        "\\begin{align}\n",
        "\\mathbf{a} \\cdot \\mathbf{b} = \\sum_{i=1}^n a_i b_i.\n",
        "\\end{align}\n",
        "\n",
        "\n",
        "    Kita dapat membuat persamaan tampak terpusat pada baris baru, seperti\n",
        "\n",
        "    \\begin{align}\n",
        "        \\mathbf{a} \\cdot \\mathbf{b} = \\sum_{i=1}^n a_i b_i.\n",
        "    \\end{align}\n",
        "\n",
        "Lingkungan `align` di LaTeX menentukan bahwa Anda menginginkan persamaan terpusat, terpisah dari teks. Ini disebut `align` karena memungkinkan Anda menyelaraskan persamaan. Anda memisahkan baris dalam persamaan dengan garis miring terbalik ganda (`//`). Sisipkan ampersand (`&`) di setiap baris pada titik penyelarasan. Semua persamaan akan disejajarkan di lokasi simbol ampersand (dan, tentu saja, ampersand tidak akan muncul dalam persamaan yang dirender).\n",
        "\n",
        "Untuk tiga vektor yang terdiri dari komponen $x$, $y$, dan $z$,\n",
        "\n",
        "\\begin{align}\n",
        "\\mathbf{a} \\cdot \\mathbf{b} &= \\sum_{i=1}^n a_i b_i \\\\\n",
        "&= a_x b_x + a_y b_y + a_z b_z.\n",
        "\\end{align}\n",
        "\n",
        "    Untuk tiga vektor yang terdiri dari komponen $x$, $y$, dan $z$,\n",
        "\n",
        "    \\begin{align}\n",
        "        \\mathbf{a} \\cdot \\mathbf{b} &= \\sum_{i=1}^n a_i b_i \\\\\n",
        "        &= a_x b_x + a_y b_y + a_z b_z.\n",
        "    \\end{align}\n",
        "\n",
        "Perhatikan bahwa saya selalu menempatkan baris kosong tambahan sebelum pernyataan `\\begin{align}`. Ini tidak perlu, tapi menurut saya semuanya terlihat lebih baik dengan ruang ekstra."
      ]
    },
    {
      "cell_type": "markdown",
      "metadata": {
        "id": "Rvk0l_C-b4gU"
      },
      "source": [
        "## Fraksi (dan contoh fine-tuning)\n",
        "\n",
        "Untuk menampilkan besaran pecahan, kita menggunakan perintah `\\frac{}{}`. `\\frac` selalu diikuti oleh dua set kurung kurawal; pembilangnya ada di yang pertama, dan penyebutnya ada di yang kedua. Sebagai contoh, kita dapat menulis sebuah persamaan yang akan sangat Anda kenal jika Anda mengambil semester kedua dari kursus ini,\n",
        "\n",
        "\\begin{align}\n",
        "P(A \\mid B) = \\frac{P(B \\mid A) \\, P(A)}{P(B)}\n",
        "\\end{align}\n",
        "\n",
        "    \\begin{align}\n",
        "        P(A \\mid B) = \\frac{P(B \\mid A) \\, P(A)}{P(B)}\n",
        "    \\end{align}\n",
        "\n",
        "Sisi kanan memiliki pecahan yang diformat dengan baik. Saya melakukan sedikit penyempurnaan ekstra dalam persamaan ini. Saya akan menunjukkan persamaan lagi tanpa penyetelan halus, yang menggunakan perintah `\\mid` dan `\\,`.\n",
        "\n",
        "\\begin{align}\n",
        "P(A | B) = \\frac{P(B | A) P(A)}{P(B)}.\n",
        "\\end{align}\n",
        "\n",
        "    \\begin{align}\n",
        "        P(A | B) = \\frac{P(B | A) P(A)}{P(B)}.\n",
        "    \\end{align}\n",
        "\n",
        "Pertama, perintah `\\mid` harus digunakan dalam probabilitas bersyarat. Hanya menggunakan bilah vertikal (`|`) menghasilkan kepadatan. Demikian pula, saya menggunakan perintah `\\,` untuk menyisipkan sedikit ruang ekstra di antara dua probabilitas di pembilang. Ini membuat persamaan sedikit lebih mudah dibaca. Operator `\\,` ini sangat penting saat mendefinisikan integral. Kita dapat menempatkan sedikit ruang antara $\\mathrm{d}x$ dan integrand.\n",
        "\n",
        "\\begin{align}\n",
        "\\text{good: } &\\int_0^{2\\pi} \\mathrm{d}x \\, \\sin x. \\\\[1em]\n",
        "\\text{bad: } &\\int_0^{2\\pi} \\mathrm{d}x \\sin x.\n",
        "\\end{align}\n",
        "\n",
        "    \\begin{align}\n",
        "        \\text{good: } &\\int_0^{2\\pi} \\mathrm{d}x \\, \\sin x. \\\\[1em]\n",
        "        \\text{bad: } &\\int_0^{2\\pi} \\mathrm{d}x \\sin x.\n",
        "    \\end{align}\n",
        "\n",
        "Perhatikan bahwa saya memasukkan ruang ekstra setelah baris baru. Secara khusus, `\\\\[1em]` menginstruksikan LaTeX untuk menyisipkan persamaan spasi ke lebar karakter M di antara persamaan. Saya sering melakukan ini untuk menjaga semuanya tetap jelas.\n",
        "\n",
        "Juga sangat penting untuk dicatat bahwa saya menggunakan $\\sin$ dan bukan $sin$. Fungsi matematika harus dalam font Romawi dan dipanggil dengan garis miring terbalik. Jika tidak, karakter akan ditafsirkan sebagai variabel terpisah. Agar jelas:\n",
        "\n",
        "\\begin{align}\n",
        "\\text{good: } &\\sin x. \\\\[1em]\n",
        "\\text{bad: } & sin x.\n",
        "\\end{align}\n",
        "\n",
        "    \\begin{align}\n",
        "        \\text{good: } &\\sin x. \\\\[1em]\n",
        "        \\text{bad: } & sin x.\n",
        "    \\end{align}\n",
        "\n",
        "Terakhir, perhatikan bahwa saya dapat memasukkan teks ke dalam persamaan seperti ini: `\\text{good: }`."
      ]
    },
    {
      "cell_type": "markdown",
      "metadata": {
        "id": "f98Uu9YWb4gV"
      },
      "source": [
        "## Grouping operators (and more fine-tuning)\n",
        "\n",
        "Compare the following equations.\n",
        "\n",
        "\\begin{align}\n",
        "\\text{good: } &\\sum_{i=1}^n i^3 = \\left(\\sum_{i=1}^n i\\right)^2. \\\\[1em]\n",
        "\\text{bad: }  &\\sum_{i=1}^n i^3 = (\\sum_{i=1}^n i)^2.\n",
        "\\end{align}\n",
        "\n",
        "    \\begin{align}\n",
        "        \\text{good: } &\\sum_{i=1}^n i^3 = \\left(\\sum_{i=1}^n i\\right)^2. \\\\[1em]\n",
        "        \\text{bad: }  &\\sum_{i=1}^n i^3 = (\\sum_{i=1}^n i)^2.\n",
        "    \\end{align}\n",
        "\n",
        "In the second equation, I did not use the `\\left(` and `\\right)` construction for parentheses and the result looks pretty awful. In LaTeX, the height of anything that is encapsulated by `\\left(` and `\\right)` scales the parentheses appropriately. You can use `\\left` and `\\right` with many symbols. An important example is `\\left\\{`. Note that to display braces in an equation, you have to use `\\{` because just a plain brace (`{`) has a different meaning.\n",
        "\n",
        "(By the way, that equation is true, and pretty amazing. It says that the sum of the first $n$ *cubes* of integers is equal to the sum of the first $n$ integers *squared*!)\n",
        "\n",
        "Finally, if you use `\\left.` or `\\right.`, LaTeX will simply scale the opposite symbol to match the height of the text, but will suppress printing the other. For example,\n",
        "\n",
        "\\begin{align}\n",
        "\\left. \\frac{1}{x + 2} \\right|_0^2 = -\\frac{1}{4}.\n",
        "\\end{align}\n",
        "\n",
        "    \\begin{align}\n",
        "        \\left. \\frac{1}{x + 2} \\right|_0^2 = -\\frac{1}{4}.\n",
        "    \\end{align}\n",
        "\n",
        "This is also useful if you are going to use `/` for a division operation. Compare the following.\n",
        "\n",
        "\\begin{align}\n",
        "\\text{good: } & \\left. x^2 \\middle/ y^2 \\right. \\\\[1em]\n",
        "\\text{bad: } & x^2 / y^2\n",
        "\\end{align}\n",
        "\n",
        "    \\begin{align}\n",
        "        \\text{good: } & \\left. x^2 \\middle/ y^2 \\right. \\\\[1em]\n",
        "        \\text{bad: } & x^2 / y^2\n",
        "    \\end{align}\n",
        "\n",
        "Here, we used the `\\middle` operator to scale the length of the division sign."
      ]
    },
    {
      "cell_type": "markdown",
      "metadata": {
        "id": "wBXD-Eftb4gW"
      },
      "source": [
        "## Matrices and arrays\n",
        "On occasion, you'll need to express matrices. This is most easily done using the `pmatrix` environment.  For example, a covariance matrix for two variables might be written as\n",
        "\n",
        "\\begin{align}\n",
        "\\sigma^2 = \\begin{pmatrix}\n",
        "\\sigma_1^2 & \\sigma_{12} \\\\\n",
        "\\sigma_{12} & \\sigma_2^2\n",
        "\\end{pmatrix}.\n",
        "\\end{align}\n",
        "\n",
        "    \\begin{align}\n",
        "        \\sigma^2 = \\begin{pmatrix}\n",
        "        \\sigma_1^2 & \\sigma_{12} \\\\\n",
        "        \\sigma_{12} & \\sigma_2^2\n",
        "        \\end{pmatrix}.\n",
        "    \\end{align}\n",
        "\n",
        "Once in the `pmatrix` environment, each row has entries separated by an ampersand. The row ends with a `\\\\`.  Each row must have the same number of entries.\n",
        "\n",
        "You may also need to represent an values stacked on top of each other. For example, we might specify a piecewise linear function like this.\n",
        "\n",
        "\\begin{align}\n",
        "\\text{rectifier}(x) = \\left\\{\n",
        "\\begin{array}{cl}\n",
        "0 & x \\le 0 \\\\\n",
        "x & x > 0.\n",
        "\\end{array}\n",
        "\\right.\n",
        "\\end{align}\n",
        "\n",
        "    \\begin{align}\n",
        "        \\text{rectifier}(x) = \\left\\{\n",
        "        \\begin{array}{cl}\n",
        "        0 & x \\le 0 \\\\\n",
        "        x & x > 0.\n",
        "        \\end{array}\n",
        "        \\right.\n",
        "    \\end{align}\n",
        "\n",
        "The `array` environment allows arrays of text. The `{cl}` after `\\begin{array}` indicates that two columns are wanted, with the first column being centered and the second being left-aligned. If we chose instead `{lr}`, the first column is left-aligned and the second column is right-aligned."
      ]
    },
    {
      "cell_type": "markdown",
      "metadata": {
        "id": "CJnvqmN1b4gX"
      },
      "source": [
        "## Useful LaTeX symbols for BE/Bi 103\n",
        "Following is a list of some symbols you may find useful in this class.\n",
        "\n",
        "LaTeX | symbol\n",
        "--- | :---:\n",
        "`\\approx` | $\\approx$\n",
        "`\\sim` | $\\sim$\n",
        "`\\propto` | $\\propto$\n",
        "`\\le` | $\\le$\n",
        "`ge` | $\\ge$\n",
        "`\\pm` | $\\pm$\n",
        "`\\in` | $\\in$\n",
        "`\\ln` | $\\ln$\n",
        "`\\exp` | $\\exp$\n",
        "`\\prod_{i\\in D}` | ${\\displaystyle \\prod_{i\\in D}}$\n",
        "`\\sum_{i\\in D}` | ${\\displaystyle \\sum_{i\\in D}}$\n",
        "`\\frac{\\partial f}{\\partial x}` | ${\\displaystyle \\frac{\\partial f}{\\partial x}}$\n",
        "`\\sqrt{x}` | $\\sqrt{x}$\n",
        "`\\bar{x}` | $\\bar{x}$\n",
        "`\\langle x \\rangle` | $\\langle x \\rangle$\n",
        "`\\left\\langle \\frac{x}{y} \\right\\rangle` | $\\left\\langle \\frac{x}{y} \\right\\rangle$"
      ]
    }
  ],
  "metadata": {
    "kernelspec": {
      "display_name": "Python 3 (ipykernel)",
      "language": "python",
      "name": "python3"
    },
    "language_info": {
      "codemirror_mode": {
        "name": "ipython",
        "version": 3
      },
      "file_extension": ".py",
      "mimetype": "text/x-python",
      "name": "python",
      "nbconvert_exporter": "python",
      "pygments_lexer": "ipython3",
      "version": "3.9.12"
    },
    "colab": {
      "provenance": [],
      "toc_visible": true,
      "include_colab_link": true
    }
  },
  "nbformat": 4,
  "nbformat_minor": 0
}